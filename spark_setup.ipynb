{
  "nbformat": 4,
  "nbformat_minor": 0,
  "metadata": {
    "colab": {
      "name": "spark-setup.ipynb",
      "provenance": [],
      "collapsed_sections": []
    },
    "kernelspec": {
      "name": "python3",
      "display_name": "Python 3"
    }
  },
  "cells": [
    {
      "cell_type": "code",
      "metadata": {
        "id": "Or-qqK9egaDl"
      },
      "source": [
        "from pyspark.sql import SparkSession #Make sure it's pyspark.sql!\r\n",
        "from pyspark import SparkContext, SparkConf\r\n"
      ],
      "execution_count": null,
      "outputs": []
    },
    {
      "cell_type": "code",
      "metadata": {
        "id": "oIEdtvG9gnCn"
      },
      "source": [
        "conf = SparkConf().set(\"spark.ui.port\", \"4050\")"
      ],
      "execution_count": null,
      "outputs": []
    },
    {
      "cell_type": "code",
      "metadata": {
        "id": "uT1pVEC3gweN"
      },
      "source": [
        "sc = SparkContext(conf=conf)"
      ],
      "execution_count": null,
      "outputs": []
    },
    {
      "cell_type": "code",
      "metadata": {
        "id": "OSVn6SrZhXrS"
      },
      "source": [
        "spark = SparkSession.builder.getOrCreate()"
      ],
      "execution_count": null,
      "outputs": []
    },
    {
      "cell_type": "code",
      "metadata": {
        "id": "KmxWCGLOjf61"
      },
      "source": [
        "from pyspark import SQLContext"
      ],
      "execution_count": null,
      "outputs": []
    },
    {
      "cell_type": "code",
      "metadata": {
        "id": "GFR_mTw5kdZ3"
      },
      "source": [
        "sqlContext = SQLContext(sc) #The object sqlContext is created"
      ],
      "execution_count": null,
      "outputs": []
    },
    {
      "cell_type": "code",
      "metadata": {
        "id": "LHvKpzUnk8Nw"
      },
      "source": [
        "df = sqlContext.read.csv(\"/content/amazon.csv\", header='true') #header='true' can be used to create the header row"
      ],
      "execution_count": null,
      "outputs": []
    },
    {
      "cell_type": "code",
      "metadata": {
        "colab": {
          "base_uri": "https://localhost:8080/"
        },
        "id": "1ZeXMyXymald",
        "outputId": "b05894d6-41cd-4087-e124-dc61c988050a"
      },
      "source": [
        "df.show()"
      ],
      "execution_count": null,
      "outputs": [
        {
          "output_type": "stream",
          "text": [
            "+-----+---------+----+------+--------+\n",
            "|state|    month|year|number|    date|\n",
            "+-----+---------+----+------+--------+\n",
            "| Acre|  Janeiro|2003|     1|1/1/2003|\n",
            "| Acre|  Janeiro|2005|     1|1/1/2005|\n",
            "| Acre|  Janeiro|2006|     1|1/1/2006|\n",
            "| Acre|  Janeiro|2010|     1|1/1/2010|\n",
            "| Acre|  Janeiro|2015|     1|1/1/2015|\n",
            "| Acre|  Janeiro|2016|     1|1/1/2016|\n",
            "| Acre|Fevereiro|2002|     1|1/1/2002|\n",
            "| Acre|Fevereiro|2004|     1|1/1/2004|\n",
            "| Acre|Fevereiro|2007|     1|1/1/2007|\n",
            "| Acre|Fevereiro|2009|     1|1/1/2009|\n",
            "| Acre|Fevereiro|2015|     1|1/1/2015|\n",
            "| Acre|Fevereiro|2016|     1|1/1/2016|\n",
            "| Acre|Fevereiro|2017|     1|1/1/2017|\n",
            "| Acre|    Mar�o|2000|     1|1/1/2000|\n",
            "| Acre|    Mar�o|2005|     1|1/1/2005|\n",
            "| Acre|    Mar�o|2007|     1|1/1/2007|\n",
            "| Acre|    Mar�o|2009|     1|1/1/2009|\n",
            "| Acre|    Mar�o|2012|     1|1/1/2012|\n",
            "| Acre|    Mar�o|2013|     1|1/1/2013|\n",
            "| Acre|    Mar�o|2014|     1|1/1/2014|\n",
            "+-----+---------+----+------+--------+\n",
            "only showing top 20 rows\n",
            "\n"
          ],
          "name": "stdout"
        }
      ]
    },
    {
      "cell_type": "code",
      "metadata": {
        "colab": {
          "base_uri": "https://localhost:8080/"
        },
        "id": "XNXkC_RmmpR7",
        "outputId": "0e731f10-0d4a-476b-d07e-aae6b9faeb0f"
      },
      "source": [
        "df.printSchema() #This will print out the different fields and datatypes of the dataframe"
      ],
      "execution_count": null,
      "outputs": [
        {
          "output_type": "stream",
          "text": [
            "root\n",
            " |-- state: string (nullable = true)\n",
            " |-- month: string (nullable = true)\n",
            " |-- year: string (nullable = true)\n",
            " |-- number: string (nullable = true)\n",
            " |-- date: string (nullable = true)\n",
            "\n"
          ],
          "name": "stdout"
        }
      ]
    },
    {
      "cell_type": "code",
      "metadata": {
        "colab": {
          "base_uri": "https://localhost:8080/"
        },
        "id": "cVt-goOCnjxc",
        "outputId": "83c5f13b-4922-4cec-af6f-93712ebf14b3"
      },
      "source": [
        "df.columns #This creates an array of the dataframe's columns"
      ],
      "execution_count": null,
      "outputs": [
        {
          "output_type": "execute_result",
          "data": {
            "text/plain": [
              "['state', 'month', 'year', 'number', 'date']"
            ]
          },
          "metadata": {
            "tags": []
          },
          "execution_count": 22
        }
      ]
    },
    {
      "cell_type": "code",
      "metadata": {
        "colab": {
          "base_uri": "https://localhost:8080/"
        },
        "id": "aN01vmdRnwW3",
        "outputId": "f3ff2a88-f516-429a-afda-7fffd49197c0"
      },
      "source": [
        "df.describe().show() #Need to include the .show() method to present the info in a dataframe"
      ],
      "execution_count": null,
      "outputs": [
        {
          "output_type": "stream",
          "text": [
            "+-------+---------+--------+------------------+------------------+--------+\n",
            "|summary|    state|   month|              year|            number|    date|\n",
            "+-------+---------+--------+------------------+------------------+--------+\n",
            "|  count|     5837|    5837|              5837|              5837|    5837|\n",
            "|   mean|     null|    null|2007.8348466678087|119.74029004625663|    null|\n",
            "| stddev|     null|    null| 5.649076182727606| 197.1996444242146|    null|\n",
            "|    min|     Acre|   Abril|              1998|                 1|1/1/1998|\n",
            "|    max|Tocantins|Setembro|              2017|               998|1/1/2017|\n",
            "+-------+---------+--------+------------------+------------------+--------+\n",
            "\n"
          ],
          "name": "stdout"
        }
      ]
    },
    {
      "cell_type": "code",
      "metadata": {
        "id": "_FgjIoCln6b9"
      },
      "source": [
        "from pyspark.sql.types import StructField,StringType,IntegerType,StructType"
      ],
      "execution_count": null,
      "outputs": []
    },
    {
      "cell_type": "code",
      "metadata": {
        "id": "5e5J76X4oTr-"
      },
      "source": [
        "data_schema = [StructField('number', IntegerType(), True)]"
      ],
      "execution_count": null,
      "outputs": []
    },
    {
      "cell_type": "code",
      "metadata": {
        "id": "VW14lt32odv0"
      },
      "source": [
        "final_struc = StructType(fields=data_schema)"
      ],
      "execution_count": null,
      "outputs": []
    },
    {
      "cell_type": "code",
      "metadata": {
        "id": "wfBcQWXNosCw"
      },
      "source": [
        "#df = sqlContext.sql(\"SELECT * FROM \") Need to figure out how to run a Spark SQL query"
      ],
      "execution_count": null,
      "outputs": []
    },
    {
      "cell_type": "code",
      "metadata": {
        "id": "6Zenxisvo4rC",
        "colab": {
          "base_uri": "https://localhost:8080/"
        },
        "outputId": "3616b3e8-de00-4e8d-cc64-f29759d3c371"
      },
      "source": [
        "df.select('state').show()"
      ],
      "execution_count": null,
      "outputs": [
        {
          "output_type": "stream",
          "text": [
            "+-----+\n",
            "|state|\n",
            "+-----+\n",
            "| Acre|\n",
            "| Acre|\n",
            "| Acre|\n",
            "| Acre|\n",
            "| Acre|\n",
            "| Acre|\n",
            "| Acre|\n",
            "| Acre|\n",
            "| Acre|\n",
            "| Acre|\n",
            "| Acre|\n",
            "| Acre|\n",
            "| Acre|\n",
            "| Acre|\n",
            "| Acre|\n",
            "| Acre|\n",
            "| Acre|\n",
            "| Acre|\n",
            "| Acre|\n",
            "| Acre|\n",
            "+-----+\n",
            "only showing top 20 rows\n",
            "\n"
          ],
          "name": "stdout"
        }
      ]
    },
    {
      "cell_type": "code",
      "metadata": {
        "id": "I64WH440rcO0",
        "colab": {
          "base_uri": "https://localhost:8080/"
        },
        "outputId": "7c643ced-e4ba-4217-a3fc-36ff92fa0ff7"
      },
      "source": [
        "df.head(2)"
      ],
      "execution_count": null,
      "outputs": [
        {
          "output_type": "execute_result",
          "data": {
            "text/plain": [
              "[Row(state='Acre', month='Janeiro', year='2003', number='1', date='1/1/2003'),\n",
              " Row(state='Acre', month='Janeiro', year='2005', number='1', date='1/1/2005')]"
            ]
          },
          "metadata": {
            "tags": []
          },
          "execution_count": 34
        }
      ]
    },
    {
      "cell_type": "code",
      "metadata": {
        "id": "S3HIuAdyrebM",
        "colab": {
          "base_uri": "https://localhost:8080/"
        },
        "outputId": "6de82f53-ffac-4144-854c-36338d59220e"
      },
      "source": [
        "df.withColumn('newstate', df['state']).show()"
      ],
      "execution_count": 37,
      "outputs": [
        {
          "output_type": "stream",
          "text": [
            "+-----+---------+----+------+--------+--------+\n",
            "|state|    month|year|number|    date|newstate|\n",
            "+-----+---------+----+------+--------+--------+\n",
            "| Acre|  Janeiro|2003|     1|1/1/2003|    Acre|\n",
            "| Acre|  Janeiro|2005|     1|1/1/2005|    Acre|\n",
            "| Acre|  Janeiro|2006|     1|1/1/2006|    Acre|\n",
            "| Acre|  Janeiro|2010|     1|1/1/2010|    Acre|\n",
            "| Acre|  Janeiro|2015|     1|1/1/2015|    Acre|\n",
            "| Acre|  Janeiro|2016|     1|1/1/2016|    Acre|\n",
            "| Acre|Fevereiro|2002|     1|1/1/2002|    Acre|\n",
            "| Acre|Fevereiro|2004|     1|1/1/2004|    Acre|\n",
            "| Acre|Fevereiro|2007|     1|1/1/2007|    Acre|\n",
            "| Acre|Fevereiro|2009|     1|1/1/2009|    Acre|\n",
            "| Acre|Fevereiro|2015|     1|1/1/2015|    Acre|\n",
            "| Acre|Fevereiro|2016|     1|1/1/2016|    Acre|\n",
            "| Acre|Fevereiro|2017|     1|1/1/2017|    Acre|\n",
            "| Acre|    Mar�o|2000|     1|1/1/2000|    Acre|\n",
            "| Acre|    Mar�o|2005|     1|1/1/2005|    Acre|\n",
            "| Acre|    Mar�o|2007|     1|1/1/2007|    Acre|\n",
            "| Acre|    Mar�o|2009|     1|1/1/2009|    Acre|\n",
            "| Acre|    Mar�o|2012|     1|1/1/2012|    Acre|\n",
            "| Acre|    Mar�o|2013|     1|1/1/2013|    Acre|\n",
            "| Acre|    Mar�o|2014|     1|1/1/2014|    Acre|\n",
            "+-----+---------+----+------+--------+--------+\n",
            "only showing top 20 rows\n",
            "\n"
          ],
          "name": "stdout"
        }
      ]
    },
    {
      "cell_type": "code",
      "metadata": {
        "colab": {
          "base_uri": "https://localhost:8080/"
        },
        "id": "iZUdZp-4sMCH",
        "outputId": "45d36f90-0c8b-4307-ca36-fd5e13164d37"
      },
      "source": [
        "df.withColumnRenamed('state', 'my_new_state').show()"
      ],
      "execution_count": 38,
      "outputs": [
        {
          "output_type": "stream",
          "text": [
            "+------------+---------+----+------+--------+\n",
            "|my_new_state|    month|year|number|    date|\n",
            "+------------+---------+----+------+--------+\n",
            "|        Acre|  Janeiro|2003|     1|1/1/2003|\n",
            "|        Acre|  Janeiro|2005|     1|1/1/2005|\n",
            "|        Acre|  Janeiro|2006|     1|1/1/2006|\n",
            "|        Acre|  Janeiro|2010|     1|1/1/2010|\n",
            "|        Acre|  Janeiro|2015|     1|1/1/2015|\n",
            "|        Acre|  Janeiro|2016|     1|1/1/2016|\n",
            "|        Acre|Fevereiro|2002|     1|1/1/2002|\n",
            "|        Acre|Fevereiro|2004|     1|1/1/2004|\n",
            "|        Acre|Fevereiro|2007|     1|1/1/2007|\n",
            "|        Acre|Fevereiro|2009|     1|1/1/2009|\n",
            "|        Acre|Fevereiro|2015|     1|1/1/2015|\n",
            "|        Acre|Fevereiro|2016|     1|1/1/2016|\n",
            "|        Acre|Fevereiro|2017|     1|1/1/2017|\n",
            "|        Acre|    Mar�o|2000|     1|1/1/2000|\n",
            "|        Acre|    Mar�o|2005|     1|1/1/2005|\n",
            "|        Acre|    Mar�o|2007|     1|1/1/2007|\n",
            "|        Acre|    Mar�o|2009|     1|1/1/2009|\n",
            "|        Acre|    Mar�o|2012|     1|1/1/2012|\n",
            "|        Acre|    Mar�o|2013|     1|1/1/2013|\n",
            "|        Acre|    Mar�o|2014|     1|1/1/2014|\n",
            "+------------+---------+----+------+--------+\n",
            "only showing top 20 rows\n",
            "\n"
          ],
          "name": "stdout"
        }
      ]
    },
    {
      "cell_type": "code",
      "metadata": {
        "id": "sBiH2BPFscqs"
      },
      "source": [
        "df.createOrReplaceTempView('states') #A view for the dataframe is created"
      ],
      "execution_count": 39,
      "outputs": []
    },
    {
      "cell_type": "code",
      "metadata": {
        "id": "x67WrSB9sqPL"
      },
      "source": [
        "results = spark.sql(\"SELECT * FROM states\")"
      ],
      "execution_count": 44,
      "outputs": []
    },
    {
      "cell_type": "code",
      "metadata": {
        "colab": {
          "base_uri": "https://localhost:8080/"
        },
        "id": "eV0SdEh-swUU",
        "outputId": "d41f2418-4d47-4f09-a7d0-673392a72fe2"
      },
      "source": [
        "results.show()"
      ],
      "execution_count": 45,
      "outputs": [
        {
          "output_type": "stream",
          "text": [
            "+-----+---------+----+------+--------+\n",
            "|state|    month|year|number|    date|\n",
            "+-----+---------+----+------+--------+\n",
            "| Acre|  Janeiro|2003|     1|1/1/2003|\n",
            "| Acre|  Janeiro|2005|     1|1/1/2005|\n",
            "| Acre|  Janeiro|2006|     1|1/1/2006|\n",
            "| Acre|  Janeiro|2010|     1|1/1/2010|\n",
            "| Acre|  Janeiro|2015|     1|1/1/2015|\n",
            "| Acre|  Janeiro|2016|     1|1/1/2016|\n",
            "| Acre|Fevereiro|2002|     1|1/1/2002|\n",
            "| Acre|Fevereiro|2004|     1|1/1/2004|\n",
            "| Acre|Fevereiro|2007|     1|1/1/2007|\n",
            "| Acre|Fevereiro|2009|     1|1/1/2009|\n",
            "| Acre|Fevereiro|2015|     1|1/1/2015|\n",
            "| Acre|Fevereiro|2016|     1|1/1/2016|\n",
            "| Acre|Fevereiro|2017|     1|1/1/2017|\n",
            "| Acre|    Mar�o|2000|     1|1/1/2000|\n",
            "| Acre|    Mar�o|2005|     1|1/1/2005|\n",
            "| Acre|    Mar�o|2007|     1|1/1/2007|\n",
            "| Acre|    Mar�o|2009|     1|1/1/2009|\n",
            "| Acre|    Mar�o|2012|     1|1/1/2012|\n",
            "| Acre|    Mar�o|2013|     1|1/1/2013|\n",
            "| Acre|    Mar�o|2014|     1|1/1/2014|\n",
            "+-----+---------+----+------+--------+\n",
            "only showing top 20 rows\n",
            "\n"
          ],
          "name": "stdout"
        }
      ]
    },
    {
      "cell_type": "code",
      "metadata": {
        "id": "LbP0l3WZsyzM"
      },
      "source": [
        "new_results = spark.sql(\"SELECT * FROM states WHERE month = 'Janeiro'\") #Select all records with the month Janeiro"
      ],
      "execution_count": 46,
      "outputs": []
    },
    {
      "cell_type": "code",
      "metadata": {
        "colab": {
          "base_uri": "https://localhost:8080/"
        },
        "id": "JBePElPLtWtP",
        "outputId": "bec115cb-8eb0-44b9-98bd-cb318ab9bc77"
      },
      "source": [
        "new_results.show()"
      ],
      "execution_count": 47,
      "outputs": [
        {
          "output_type": "stream",
          "text": [
            "+-------+-------+----+------+--------+\n",
            "|  state|  month|year|number|    date|\n",
            "+-------+-------+----+------+--------+\n",
            "|   Acre|Janeiro|2003|     1|1/1/2003|\n",
            "|   Acre|Janeiro|2005|     1|1/1/2005|\n",
            "|   Acre|Janeiro|2006|     1|1/1/2006|\n",
            "|   Acre|Janeiro|2010|     1|1/1/2010|\n",
            "|   Acre|Janeiro|2015|     1|1/1/2015|\n",
            "|   Acre|Janeiro|2016|     1|1/1/2016|\n",
            "|Alagoas|Janeiro|1999|     1|1/1/1999|\n",
            "|Alagoas|Janeiro|2000|     1|1/1/2000|\n",
            "|Alagoas|Janeiro|2001|     1|1/1/2001|\n",
            "|Alagoas|Janeiro|2002|     1|1/1/2002|\n",
            "|Alagoas|Janeiro|2003|     1|1/1/2003|\n",
            "|Alagoas|Janeiro|2004|     1|1/1/2004|\n",
            "|Alagoas|Janeiro|2005|     1|1/1/2005|\n",
            "|Alagoas|Janeiro|2006|     1|1/1/2006|\n",
            "|Alagoas|Janeiro|2007|     1|1/1/2007|\n",
            "|Alagoas|Janeiro|2008|     1|1/1/2008|\n",
            "|Alagoas|Janeiro|2009|     1|1/1/2009|\n",
            "|Alagoas|Janeiro|2010|     1|1/1/2010|\n",
            "|Alagoas|Janeiro|2011|     1|1/1/2011|\n",
            "|Alagoas|Janeiro|2012|     1|1/1/2012|\n",
            "+-------+-------+----+------+--------+\n",
            "only showing top 20 rows\n",
            "\n"
          ],
          "name": "stdout"
        }
      ]
    }
  ]
}